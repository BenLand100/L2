{
 "cells": [
  {
   "cell_type": "code",
   "execution_count": 1,
   "metadata": {},
   "outputs": [],
   "source": [
    "import l2\n",
    "import l2.cell_ops as ops"
   ]
  },
  {
   "cell_type": "code",
   "execution_count": 2,
   "metadata": {},
   "outputs": [],
   "source": [
    "m = l2.L2Machine()"
   ]
  },
  {
   "cell_type": "code",
   "execution_count": 3,
   "metadata": {},
   "outputs": [],
   "source": [
    "def test(expr_str,verbose=False):\n",
    "    head = l2.parse(expr_str)\n",
    "    if verbose:\n",
    "        print(ops.list_str(head))\n",
    "    for result in m.eval_to_iter(head,verbose=verbose):\n",
    "        print('Result:',ops.list_str(result))\n",
    "        #print('Result(cells):',result)"
   ]
  },
  {
   "cell_type": "code",
   "execution_count": 4,
   "metadata": {},
   "outputs": [
    {
     "name": "stdout",
     "output_type": "stream",
     "text": [
      "Result: T\n",
      "Result: None\n",
      "Result: T\n",
      "Result: None\n",
      "Result: None\n",
      "Result: None\n",
      "Result: T\n",
      "Result: T\n",
      "Result: T\n",
      "Result: None\n",
      "Result: None\n",
      "Result: T\n",
      "Result: T\n",
      "Result: None\n"
     ]
    }
   ],
   "source": [
    "test('''\n",
    "     (bind a t) (bind b nil)\n",
    "     (and a a)\n",
    "     (and a b)\n",
    "     (and b a)\n",
    "     (and b b)\n",
    "     (or a a)\n",
    "     (or a b)\n",
    "     (or b a)\n",
    "     (or b b)\n",
    "     (xor a a)\n",
    "     (xor a b)\n",
    "     (xor b a)\n",
    "     (xor b b)\n",
    "     ''',verbose=False)"
   ]
  },
  {
   "cell_type": "code",
   "execution_count": 5,
   "metadata": {},
   "outputs": [
    {
     "name": "stdout",
     "output_type": "stream",
     "text": [
      "Result: (3 4 5)\n",
      "Result: (3 4 5)\n",
      "Result: (3 4 5)\n",
      "Result: (3 4 5)\n",
      "Result: (3 4 5)\n",
      "Result: (3 4 5)\n"
     ]
    }
   ],
   "source": [
    "test(''' \n",
    "    (bind foo '(3 4 5) ) \n",
    "    (list 3 4 5)\n",
    "    (call list '(3 4 5))\n",
    "    (call list foo)\n",
    "    (apply list 3 4 5 '())\n",
    "    (apply list '(3 4 5))\n",
    "    ''')"
   ]
  },
  {
   "cell_type": "code",
   "execution_count": 6,
   "metadata": {},
   "outputs": [
    {
     "name": "stdout",
     "output_type": "stream",
     "text": [
      "Result: (QUOTE A)\n",
      "Result: (A 1 2 3 4 5)\n"
     ]
    }
   ],
   "source": [
    "test('''\n",
    "     (bind bar ''a)\n",
    "     (apply list bar 1 2 foo)\n",
    "     ''',verbose=False)"
   ]
  },
  {
   "cell_type": "code",
   "execution_count": 7,
   "metadata": {
    "scrolled": false
   },
   "outputs": [
    {
     "name": "stdout",
     "output_type": "stream",
     "text": [
      "1 2 3\n",
      "Result: None\n"
     ]
    }
   ],
   "source": [
    "test(''' (apply print '(1 2 3)) ''', verbose=False )"
   ]
  },
  {
   "cell_type": "code",
   "execution_count": 8,
   "metadata": {},
   "outputs": [
    {
     "name": "stdout",
     "output_type": "stream",
     "text": [
      "Result: 42\n"
     ]
    }
   ],
   "source": [
    "test(''' (if (>= 4 1) 42 69) ''')"
   ]
  },
  {
   "cell_type": "code",
   "execution_count": 9,
   "metadata": {},
   "outputs": [
    {
     "name": "stdout",
     "output_type": "stream",
     "text": [
      "Result: 69\n"
     ]
    }
   ],
   "source": [
    "test(''' (if (>= 1 4) 42 69) ''')"
   ]
  },
  {
   "cell_type": "code",
   "execution_count": 10,
   "metadata": {},
   "outputs": [
    {
     "name": "stdout",
     "output_type": "stream",
     "text": [
      "Result: 4\n"
     ]
    }
   ],
   "source": [
    "test(''' (length '(1 2 3 4)) ''')"
   ]
  },
  {
   "cell_type": "code",
   "execution_count": 11,
   "metadata": {
    "scrolled": false
   },
   "outputs": [
    {
     "name": "stdout",
     "output_type": "stream",
     "text": [
      "Result: (3 4)\n"
     ]
    }
   ],
   "source": [
    "test(''' (last '(1 2 3 4) 2) ''')"
   ]
  },
  {
   "cell_type": "code",
   "execution_count": 12,
   "metadata": {},
   "outputs": [
    {
     "name": "stdout",
     "output_type": "stream",
     "text": [
      "Result: (A B C D E)\n"
     ]
    }
   ],
   "source": [
    "test(''' (list* 'a 'b (list 'c 'd 'e)) ''')"
   ]
  },
  {
   "cell_type": "code",
   "execution_count": 13,
   "metadata": {},
   "outputs": [
    {
     "name": "stdout",
     "output_type": "stream",
     "text": [
      "Result: 10\n"
     ]
    }
   ],
   "source": [
    "test(''' (+ 1 2 (+ 3 4)) ''',verbose=False)"
   ]
  },
  {
   "cell_type": "code",
   "execution_count": 14,
   "metadata": {},
   "outputs": [
    {
     "name": "stdout",
     "output_type": "stream",
     "text": [
      "Result: -7.000000000000001\n"
     ]
    }
   ],
   "source": [
    "test('(* 1 2 (+ 3 4) (/ 1 2 5) (- 0 5))',verbose=False)"
   ]
  },
  {
   "cell_type": "code",
   "execution_count": 15,
   "metadata": {},
   "outputs": [
    {
     "name": "stdout",
     "output_type": "stream",
     "text": [
      "((QUOTE (A B C)))\n",
      "Eval: (QUOTE (A B C))\n",
      "Eval: QUOTE\n",
      "Result: (A B C)\n"
     ]
    }
   ],
   "source": [
    "test(''' '(A B C) ''',verbose=True)"
   ]
  },
  {
   "cell_type": "code",
   "execution_count": 16,
   "metadata": {},
   "outputs": [
    {
     "name": "stdout",
     "output_type": "stream",
     "text": [
      "((CELL (QUOTE A) (CELL (QUOTE B) (CELL (QUOTE C) None))))\n",
      "Eval: (CELL (QUOTE A) (CELL (QUOTE B) (CELL (QUOTE C) None)))\n",
      "Eval: CELL\n",
      "Eval: (QUOTE A)\n",
      "Eval: QUOTE\n",
      "Eval: (CELL (QUOTE B) (CELL (QUOTE C) None))\n",
      "Eval: CELL\n",
      "Eval: (QUOTE B)\n",
      "Eval: QUOTE\n",
      "Eval: (CELL (QUOTE C) None)\n",
      "Eval: CELL\n",
      "Eval: (QUOTE C)\n",
      "Eval: QUOTE\n",
      "Eval: None\n",
      "Result: (A B C)\n"
     ]
    }
   ],
   "source": [
    "test(''' `(A B C) ''',verbose=True)"
   ]
  },
  {
   "cell_type": "code",
   "execution_count": 17,
   "metadata": {},
   "outputs": [
    {
     "name": "stdout",
     "output_type": "stream",
     "text": [
      "((BIND B 42) (CELL (QUOTE A) (CELL B (CELL (QUOTE C) None))))\n",
      "Eval: (BIND B 42)\n",
      "Eval: BIND\n",
      "Eval: 42\n",
      "Result: 42\n",
      "Eval: (CELL (QUOTE A) (CELL B (CELL (QUOTE C) None)))\n",
      "Eval: CELL\n",
      "Eval: (QUOTE A)\n",
      "Eval: QUOTE\n",
      "Eval: (CELL B (CELL (QUOTE C) None))\n",
      "Eval: CELL\n",
      "Eval: B\n",
      "Eval: (CELL (QUOTE C) None)\n",
      "Eval: CELL\n",
      "Eval: (QUOTE C)\n",
      "Eval: QUOTE\n",
      "Eval: None\n",
      "Result: (A 42 C)\n"
     ]
    }
   ],
   "source": [
    "test(''' (bind B 42) `(A ,B C) ''',verbose=True)"
   ]
  },
  {
   "cell_type": "code",
   "execution_count": 18,
   "metadata": {},
   "outputs": [
    {
     "name": "stdout",
     "output_type": "stream",
     "text": [
      "Result: SYMBOL\n",
      "Result: INTEGER\n",
      "Result: STRING\n",
      "Result: NIL\n",
      "Result: CELL\n"
     ]
    }
   ],
   "source": [
    "test('''(type 'a) (type 1) (type \\\"foo\\\") (type '()) (type '(foo bar))''')"
   ]
  },
  {
   "cell_type": "code",
   "execution_count": 19,
   "metadata": {},
   "outputs": [
    {
     "name": "stdout",
     "output_type": "stream",
     "text": [
      "Result: (LOL)\n"
     ]
    }
   ],
   "source": [
    "test('''(last '(foo bar lol))''')"
   ]
  },
  {
   "cell_type": "code",
   "execution_count": 20,
   "metadata": {},
   "outputs": [
    {
     "name": "stdout",
     "output_type": "stream",
     "text": [
      "Result: (BAR LOL)\n"
     ]
    }
   ],
   "source": [
    "test('''(last '(foo bar lol) 2)''')"
   ]
  },
  {
   "cell_type": "code",
   "execution_count": 21,
   "metadata": {},
   "outputs": [
    {
     "name": "stdout",
     "output_type": "stream",
     "text": [
      "Result: (FOO BAR LOL)\n"
     ]
    }
   ],
   "source": [
    "test('''(copy-list '(foo bar lol))''')"
   ]
  },
  {
   "cell_type": "code",
   "execution_count": 22,
   "metadata": {},
   "outputs": [
    {
     "name": "stdout",
     "output_type": "stream",
     "text": [
      "Result: 42\n"
     ]
    }
   ],
   "source": [
    "test('''(cond (nil 666) (t 42))''')"
   ]
  },
  {
   "cell_type": "code",
   "execution_count": 23,
   "metadata": {},
   "outputs": [
    {
     "name": "stdout",
     "output_type": "stream",
     "text": [
      "Result: 42\n",
      "Result: 666\n"
     ]
    }
   ],
   "source": [
    "test('''(if t 42) (if nil 42 666)''')"
   ]
  },
  {
   "cell_type": "code",
   "execution_count": 24,
   "metadata": {},
   "outputs": [
    {
     "name": "stdout",
     "output_type": "stream",
     "text": [
      "None T 42\n",
      "42 T None\n",
      "Result: None\n"
     ]
    }
   ],
   "source": [
    "test('''(let ((a) (b t) (c 42)) (print a b c) (print c b a))''')"
   ]
  },
  {
   "cell_type": "code",
   "execution_count": 25,
   "metadata": {},
   "outputs": [
    {
     "name": "stdout",
     "output_type": "stream",
     "text": [
      "Result: FOO\n",
      "A\n",
      "Result: None\n",
      "FOO\n",
      "Result: None\n"
     ]
    }
   ],
   "source": [
    "test('''(bind A 'foo) (print 'A) (print A)''')"
   ]
  },
  {
   "cell_type": "code",
   "execution_count": 26,
   "metadata": {},
   "outputs": [
    {
     "name": "stdout",
     "output_type": "stream",
     "text": [
      "Result: <lambda(X Y Z)>\n",
      "A B 123\n",
      "Result: None\n"
     ]
    }
   ],
   "source": [
    "test('''(bind fntest (lambda (x y z) (print x y z))) (fntest \"A\" 'B 123)''')"
   ]
  },
  {
   "cell_type": "code",
   "execution_count": null,
   "metadata": {},
   "outputs": [],
   "source": []
  }
 ],
 "metadata": {
  "kernelspec": {
   "display_name": "Python 3.8",
   "language": "python",
   "name": "python3.8"
  },
  "language_info": {
   "codemirror_mode": {
    "name": "ipython",
    "version": 3
   },
   "file_extension": ".py",
   "mimetype": "text/x-python",
   "name": "python",
   "nbconvert_exporter": "python",
   "pygments_lexer": "ipython3",
   "version": "3.8.6"
  }
 },
 "nbformat": 4,
 "nbformat_minor": 4
}
